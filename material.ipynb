{
 "cells": [
  {
   "cell_type": "markdown",
   "metadata": {},
   "source": [
    "Conteúdo\n",
    "========\n",
    "\n",
    "\n",
    "[Tipos de dados](material.ipynb#tipos_de_dados)\n",
    "\n",
    "[Variáveis](material.ipynb#variaveis)\n",
    "\n",
    "[Expressões](material.ipynb#expressoes)\n",
    "\n",
    "[Funções](material.ipynb#funcoes)\n",
    "\n",
    "[Execução Condicional](material.ipynb#execucao_condicional)\n",
    "\n",
    "[Execução Iterativa](material.ipynb#execucao_iterativa)\n",
    "\n",
    "[Recursão](material.ipynb#recursao)\n",
    "\n",
    "[Strings](material.ipynb#strings)\n",
    "\n",
    "[Listas](material.ipynb#listas)\n",
    "\n",
    "[Dicionários](material.ipynb#dicionarios)\n",
    "\n",
    "[Bibliotecas](material.ipynb#bibliotecas)\n",
    "\n",
    "[Arquivos](material.ipynb#arquivos)\n",
    "\n",
    "<a id='tipos_de_dados'></a>\n",
    "\n",
    "\n",
    "Tipos de dados\n",
    "--------------\n",
    "\n",
    "\n",
    "Dados são representados por um conjunto de bytes em memória, mas o que de fato é representado depende de como aqueles bytes são interpretados.\n",
    "\n",
    "A esta interpretação dos dados da memória é dado o nome de Tipo.\n",
    "\n",
    "O tipo pode ser fundamental, quando é implementado físicamente pelo hardware, ou pode ser derivado, onde são construídas estruturas de dados ou classes para representar algo mais complexo.\n",
    "\n",
    "Os tipos fundamentais de dados no Python são byte, inteiros (int), números reais (float) e referências para objetos (em C, são equivalentes aos ponteiros).\n",
    "\n",
    "Todos os outros [tipos de dados distribuídos junto com o Python](https://docs.python.org/3/library/datatypes.html), como as comumente utilizadas listas, dicionários e strings são tipos derivados de dados, construídos a partir dos tipos fundamentais.\n",
    "\n",
    "Vejamos exemplos destes tipos de dados.\n",
    "\n",
    "Primeiro um número inteiro, utilizado para contagens."
   ]
  },
  {
   "cell_type": "code",
   "execution_count": 11,
   "metadata": {
    "ExecuteTime": {
     "end_time": "2023-04-26T14:22:26.651374Z",
     "start_time": "2023-04-26T14:22:26.257369Z"
    }
   },
   "outputs": [
    {
     "data": {
      "text/plain": [
       "int"
      ]
     },
     "execution_count": 11,
     "metadata": {},
     "output_type": "execute_result"
    }
   ],
   "source": [
    "type(1)"
   ]
  },
  {
   "cell_type": "markdown",
   "metadata": {},
   "source": [
    "Agora um número real, utilizado para cálculos."
   ]
  },
  {
   "cell_type": "code",
   "execution_count": 12,
   "metadata": {
    "ExecuteTime": {
     "end_time": "2023-04-26T14:22:26.673363Z",
     "start_time": "2023-04-26T14:22:26.288370Z"
    }
   },
   "outputs": [
    {
     "data": {
      "text/plain": [
       "float"
      ]
     },
     "execution_count": 12,
     "metadata": {},
     "output_type": "execute_result"
    }
   ],
   "source": [
    "type(1.0)"
   ]
  },
  {
   "cell_type": "markdown",
   "metadata": {},
   "source": [
    "Desta vez, um byte, unidade fundamental de dados de um computador moderno."
   ]
  },
  {
   "cell_type": "code",
   "execution_count": 13,
   "metadata": {
    "ExecuteTime": {
     "end_time": "2023-04-26T14:23:09.211829Z",
     "start_time": "2023-04-26T14:23:09.179795Z"
    }
   },
   "outputs": [
    {
     "data": {
      "text/plain": [
       "bytes"
      ]
     },
     "execution_count": 13,
     "metadata": {},
     "output_type": "execute_result"
    }
   ],
   "source": [
    "type(b'0xF') # notação hexadecimal"
   ]
  },
  {
   "cell_type": "markdown",
   "metadata": {},
   "source": [
    "Agora uma referência. Se copiamos uma lista `a` contendo um número para a lista `b`, faz sentido que ambas as listas sejam idênticas."
   ]
  },
  {
   "cell_type": "code",
   "execution_count": 14,
   "metadata": {},
   "outputs": [
    {
     "data": {
      "text/plain": [
       "True"
      ]
     },
     "execution_count": 14,
     "metadata": {},
     "output_type": "execute_result"
    }
   ],
   "source": [
    "a = [1]\n",
    "b = a\n",
    "a == b"
   ]
  },
  {
   "cell_type": "markdown",
   "metadata": {},
   "source": [
    "Mas criarmos um nova lista `c` com o mesmo valor 1, mudarmos o valor na lista `a`, temos um resultado inesperado quando comparamos `b` e `c`."
   ]
  },
  {
   "cell_type": "code",
   "execution_count": 15,
   "metadata": {},
   "outputs": [
    {
     "data": {
      "text/plain": [
       "False"
      ]
     },
     "execution_count": 15,
     "metadata": {},
     "output_type": "execute_result"
    }
   ],
   "source": [
    "c = [1]\n",
    "a[0] = 2\n",
    "b == c"
   ]
  },
  {
   "cell_type": "markdown",
   "metadata": {},
   "source": [
    "Isso se deve porque `b` e `a` fazem referência a exatamente a mesma lista, portanto modificar o conteúdo de `a` implica em modificar o conteúdo de `b`. De fato, podemos observar isto imprimindo os conteúdos."
   ]
  },
  {
   "cell_type": "code",
   "execution_count": 16,
   "metadata": {},
   "outputs": [
    {
     "name": "stdout",
     "output_type": "stream",
     "text": [
      "a: [2]\n",
      "b: [2]\n",
      "c: [1]\n"
     ]
    }
   ],
   "source": [
    "print(\"a:\", a)\n",
    "print(\"b:\", b)\n",
    "print(\"c:\", c)"
   ]
  },
  {
   "cell_type": "markdown",
   "metadata": {},
   "source": [
    "<a id='variaveis'></a>\n",
    "\n",
    "\n",
    "Variáveis\n",
    "---------\n",
    "\n",
    "Variáveis são espaços de memória nomeados que permitem a organização de um programa através de mnemônicos (nomes fáceis de se lembrar ou raciocinar).\n",
    "\n",
    "Espaços de memória guardam diferentes tipos de dados, cada um com seu tipo específico de representação de alguma coisa abstrata, como por exemplo números inteiros utilizados para contagem, números reais (`float`) para representação de operações matemáticas, booleanos para representações de operações lógicas, strings (`str`) para representação de conjuntos de caracteres, dentre outros tipos de dados básicos e tipos de dados mais complexos criados por meio de estruturas de dados e classes (programação orientada à objetos).\n",
    "\n",
    "Vejamos exemplos de variáveis:"
   ]
  },
  {
   "cell_type": "code",
   "execution_count": 17,
   "metadata": {
    "ExecuteTime": {
     "end_time": "2023-04-26T14:22:26.697366Z",
     "start_time": "2023-04-26T14:22:26.336368Z"
    }
   },
   "outputs": [
    {
     "name": "stdout",
     "output_type": "stream",
     "text": [
      "Resultado da divisão inteira: 2\n",
      "Resto da divisão inteira: 2\n"
     ]
    }
   ],
   "source": [
    "inteiro = 8\n",
    "inteiro_2 = 3\n",
    "resultado_divisao = inteiro//inteiro_2\n",
    "resto_divisao = inteiro%inteiro_2\n",
    "print(\"Resultado da divisão inteira:\", resultado_divisao)\n",
    "print(\"Resto da divisão inteira:\", resto_divisao)"
   ]
  },
  {
   "cell_type": "code",
   "execution_count": 18,
   "metadata": {
    "ExecuteTime": {
     "end_time": "2023-04-26T14:22:26.718372Z",
     "start_time": "2023-04-26T14:22:26.370369Z"
    }
   },
   "outputs": [
    {
     "name": "stdout",
     "output_type": "stream",
     "text": [
      "Resultado da divisão real: 1.4889052132701421\n"
     ]
    }
   ],
   "source": [
    "real = 3.14159\n",
    "real_2 = 2.11\n",
    "resultado_divisao = real/real_2\n",
    "print(\"Resultado da divisão real:\", resultado_divisao)"
   ]
  },
  {
   "cell_type": "code",
   "execution_count": 19,
   "metadata": {
    "ExecuteTime": {
     "end_time": "2023-04-26T14:22:26.723365Z",
     "start_time": "2023-04-26T14:22:26.299366Z"
    }
   },
   "outputs": [
    {
     "name": "stdout",
     "output_type": "stream",
     "text": [
      "Entradas\t\tSaídas\n",
      "A\tB\tA&B\tA|B\tA^B\n",
      "False\tFalse\tFalse\tFalse\tFalse\n",
      "False\tTrue\tFalse\tTrue\tTrue\n",
      "True\tFalse\tFalse\tTrue\tTrue\n",
      "True\tTrue\tTrue\tTrue\tFalse\n"
     ]
    }
   ],
   "source": [
    "print(f\"Entradas\\t\\tSaídas\")\n",
    "print(f\"A\\tB\\tA&B\\tA|B\\tA^B\")\n",
    "for a in [False, True]:\n",
    "    for b in [False, True]:\n",
    "        print(f\"{a}\\t{b}\\t{a&b}\\t{a|b}\\t{a^b}\")"
   ]
  },
  {
   "cell_type": "markdown",
   "metadata": {},
   "source": [
    "Variáveis também podem guardar múltiplos valores, permitindo que um programa escale com o tamanho de sua entrada.\n",
    "\n",
    "Por exemplo, ao invés de declararmos 10 variáveis unitárias, podemos declarar uma única variável com 10 valores. Os valores podem então ser endereçados através do seu índice."
   ]
  },
  {
   "cell_type": "code",
   "execution_count": 20,
   "metadata": {},
   "outputs": [
    {
     "name": "stdout",
     "output_type": "stream",
     "text": [
      "Acessando índice i=0 de lista_de_valores: teste1\n",
      "Acessando índice i=1 de lista_de_valores: teste2\n",
      "Acessando índice i=2 de lista_de_valores: teste3\n"
     ]
    }
   ],
   "source": [
    "lista_de_valores = [\"teste1\", \"teste2\", \"teste3\"]\n",
    "\n",
    "for i in range(len(lista_de_valores)):\n",
    "    print(f\"Acessando índice i={i} de lista_de_valores: {lista_de_valores[i]}\")"
   ]
  },
  {
   "cell_type": "markdown",
   "metadata": {},
   "source": [
    "Um exemplo apresentado em aula foi o do cálculo de determinantes de matriz.\n",
    "\n",
    "Assuma a matriz 3 por 3 abaixo."
   ]
  },
  {
   "cell_type": "code",
   "execution_count": 21,
   "metadata": {},
   "outputs": [],
   "source": [
    "# colunas  0  1  2\n",
    "matriz = [[1, 2, 3], # linha 0\n",
    "          [5, 4, 3], # linha 1\n",
    "          [2, 1 ,9]  # linha 2\n",
    "          ]\n",
    "#matriz[0] = [1, 2, 3]\n",
    "#matriz[0][2] = 3"
   ]
  },
  {
   "cell_type": "markdown",
   "metadata": {},
   "source": [
    "Podemos calcular a determinante facilmente reproduzindo as equações encontradas manualmente."
   ]
  },
  {
   "cell_type": "code",
   "execution_count": 22,
   "metadata": {},
   "outputs": [
    {
     "name": "stdout",
     "output_type": "stream",
     "text": [
      "-54\n"
     ]
    }
   ],
   "source": [
    "from copy import deepcopy\n",
    "\n",
    "def determinante_matriz_fixo3x3(matriz):\n",
    "    matriz_expandida = deepcopy(matriz)\n",
    "    # Extende matriz copiando duas primeiras colunas para o fim\n",
    "    for indice_linha in range(len(matriz)):\n",
    "        matriz_expandida[indice_linha].extend(matriz_expandida[indice_linha][0:2])\n",
    "    \n",
    "    # Calcula diagonais positivas\n",
    "    dp0 = matriz_expandida[0][0]*matriz_expandida[1][1]*matriz_expandida[2][2]\n",
    "    dp1 = matriz_expandida[0][1]*matriz_expandida[1][2]*matriz_expandida[2][3]\n",
    "    dp2 = matriz_expandida[0][2]*matriz_expandida[1][3]*matriz_expandida[2][4]\n",
    "\n",
    "    # Calcula diagonais negativas\n",
    "    dn0 = matriz_expandida[0][2] * matriz_expandida[1][1] * matriz_expandida[2][0]\n",
    "    dn1 = matriz_expandida[0][3] * matriz_expandida[1][2] * matriz_expandida[2][1]\n",
    "    dn2 = matriz_expandida[0][4] * matriz_expandida[1][3] * matriz_expandida[2][2]\n",
    "    \n",
    "    # Soma diagonais parciais e retorna o valor\n",
    "    return dp0+dp1+dp2-dn0-dn1-dn2\n",
    "\n",
    "print(determinante_matriz_fixo3x3(matriz))"
   ]
  },
  {
   "cell_type": "markdown",
   "metadata": {},
   "source": [
    "Mas esta solução tem um problema. Só funciona para matrizes de 3 por 3. \n",
    "\n",
    "Como fazer ser mais genérico? De maneira paramétrica."
   ]
  },
  {
   "cell_type": "code",
   "execution_count": 23,
   "metadata": {},
   "outputs": [
    {
     "name": "stdout",
     "output_type": "stream",
     "text": [
      "-54\n"
     ]
    }
   ],
   "source": [
    "def determinante_matriz_parametrica(matriz):\n",
    "    matriz_expandida = deepcopy(matriz)\n",
    "    # Expande a matriz\n",
    "    for indice_linha in range(len(matriz)):\n",
    "        matriz_expandida[indice_linha].extend(matriz_expandida[indice_linha][0:len(matriz)-1])\n",
    "    \n",
    "    # Calcula diagonais positivas\n",
    "    determinante_final = 0\n",
    "    for determinante_positivo in range(len(matriz)):\n",
    "        determinante_parcial = 1\n",
    "        for linha in range(len(matriz)):\n",
    "            coluna = linha + determinante_positivo\n",
    "            determinante_parcial *= matriz_expandida[linha][coluna]\n",
    "        determinante_final += determinante_parcial\n",
    "        \n",
    "    # Calcula diagonais negativas\n",
    "    for determinante_negativo in range(len(matriz)):\n",
    "        determinante_parcial = 1\n",
    "        for linha in range(len(matriz_expandida)):\n",
    "            coluna = -linha-1-determinante_negativo\n",
    "            determinante_parcial *= matriz_expandida[linha][coluna]\n",
    "        determinante_final -= determinante_parcial\n",
    "        \n",
    "    # Retorna determinante\n",
    "    return determinante_final\n",
    "\n",
    "print(determinante_matriz_parametrica(matriz))"
   ]
  },
  {
   "cell_type": "markdown",
   "metadata": {},
   "source": [
    "Agora podemos calcular a determinante de matrizes 5x5, por exemplo."
   ]
  },
  {
   "cell_type": "code",
   "execution_count": 24,
   "metadata": {},
   "outputs": [
    {
     "name": "stdout",
     "output_type": "stream",
     "text": [
      "0\n"
     ]
    }
   ],
   "source": [
    "matriz_5x5 = [\n",
    "    [1, 2, 3, 4, 5],\n",
    "    [2, 3, 4, 5, 6],\n",
    "    [3, 4, 5, 6, 7],\n",
    "    [4, 5, 6, 7, 8],\n",
    "    [5, 6, 7, 8, 9],\n",
    "]\n",
    "print(determinante_matriz_parametrica(matriz_5x5))"
   ]
  },
  {
   "cell_type": "markdown",
   "metadata": {},
   "source": [
    "<a id='expressoes'></a>\n",
    "\n",
    "Expressões\n",
    "----------------\n",
    "\n",
    "Uma expressão é um conjunto de operadores e operandos que tem como o objetivo se alcançar algum resultado. Existem vários tipos de expressões, como por exemplo as expressões matemáticas, as expressões booleanas e as expressões para manipulação de conjuntos, ou outras estruturas de dados.\n",
    "\n",
    "Vejamos alguns exemplos de expressões."
   ]
  },
  {
   "cell_type": "code",
   "execution_count": 25,
   "metadata": {
    "ExecuteTime": {
     "end_time": "2023-04-26T14:22:26.751392Z",
     "start_time": "2023-04-26T14:22:26.310367Z"
    }
   },
   "outputs": [
    {
     "data": {
      "image/png": "[encoded data removed]",
      "text/plain": [
       "<Figure size 640x480 with 1 Axes>"
      ]
     },
     "metadata": {},
     "output_type": "display_data"
    }
   ],
   "source": [
    "# Importamos a biblioteca matplotlib para plotagem\n",
    "import matplotlib.pyplot as plt\n",
    "\n",
    "# Função quadrática gera uma parábola\n",
    "def quadratica(x, a, b, c):\n",
    "    return x*x*a + x*b + c\n",
    "\n",
    "xs = [-3, -2, -1, 0, 1, 2, 3]\n",
    "ys = []\n",
    "a = 3\n",
    "b = 2\n",
    "c = -1\n",
    "for x in xs:\n",
    "    # Calculamos o valor do eixo Y de cada ponto X\n",
    "    # e guardamos os resultados para conferência da parábola\n",
    "    y = quadratica(x, a, b, c)\n",
    "    ys.append(y)\n",
    "\n",
    "# Plotamos coordenadas nos eixos X e Y\n",
    "plt.plot(xs, ys)\n",
    "plt.show()"
   ]
  },
  {
   "cell_type": "markdown",
   "metadata": {},
   "source": [
    "Como podemos ver, nossa expressão matemática de fato representa uma função quadrática com concavidade para cima.\n",
    "\n",
    "Agora vamos testar a função quadrática com concavidade para baixo, alterando a constante da parábola `a`."
   ]
  },
  {
   "cell_type": "code",
   "execution_count": 26,
   "metadata": {
    "ExecuteTime": {
     "end_time": "2023-04-26T14:22:27.030956Z",
     "start_time": "2023-04-26T14:22:26.323363Z"
    }
   },
   "outputs": [
    {
     "data": {
      "image/png": "[encoded data removed]",
      "text/plain": [
       "<Figure size 640x480 with 1 Axes>"
      ]
     },
     "metadata": {},
     "output_type": "display_data"
    }
   ],
   "source": [
    "xs = [-3, -2, -1, 0, 1, 2, 3]\n",
    "ys = []\n",
    "a = -3\n",
    "b = 2\n",
    "c = -1\n",
    "for x in xs:\n",
    "    y = quadratica(x, a, b, c)\n",
    "    ys.append(y)\n",
    "\n",
    "plt.plot(xs, ys)\n",
    "plt.show()"
   ]
  },
  {
   "cell_type": "markdown",
   "metadata": {},
   "source": [
    "Como se pode observar, a concavidade da parábola de fato está voltada para baixo.\n",
    "\n",
    "Agora veremos expressões lógicas/booleanas."
   ]
  },
  {
   "cell_type": "code",
   "execution_count": 27,
   "metadata": {
    "ExecuteTime": {
     "end_time": "2023-04-26T14:22:27.068900Z",
     "start_time": "2023-04-26T14:22:26.336368Z"
    }
   },
   "outputs": [
    {
     "name": "stdout",
     "output_type": "stream",
     "text": [
      "Entradas\tSaídas\n",
      "A\tB\tS\n",
      "False\tFalse\tFalse\n",
      "False\tTrue\tTrue\n",
      "True\tFalse\tTrue\n",
      "True\tTrue\tTrue\n"
     ]
    }
   ],
   "source": [
    "print(f\"Entradas\\tSaídas\")\n",
    "print(f\"A\\tB\\tS\")\n",
    "for a in [False, True]:\n",
    "    for b in [False, True]:\n",
    "        if (a&b) + (a|b) + (a^b):\n",
    "            print(f\"{a}\\t{b}\\t{True}\")\n",
    "        else:\n",
    "            print(f\"{a}\\t{b}\\t{False}\")"
   ]
  },
  {
   "cell_type": "markdown",
   "metadata": {},
   "source": [
    "Como vimos acima, a parte da expressão booleana foi dominada pelo componente lógico OU (OR).\n",
    "Agora veremos o comportamente substituindo a operação de soma `+` pela multiplicação `*`."
   ]
  },
  {
   "cell_type": "code",
   "execution_count": 28,
   "metadata": {
    "ExecuteTime": {
     "end_time": "2023-04-26T14:22:27.098888Z",
     "start_time": "2023-04-26T14:22:26.351364Z"
    }
   },
   "outputs": [
    {
     "name": "stdout",
     "output_type": "stream",
     "text": [
      "Entradas\tSaídas\n",
      "A\tB\tS\n",
      "False\tFalse\tFalse\n",
      "False\tTrue\tFalse\n",
      "True\tFalse\tFalse\n",
      "True\tTrue\tFalse\n"
     ]
    }
   ],
   "source": [
    "print(f\"Entradas\\tSaídas\")\n",
    "print(f\"A\\tB\\tS\")\n",
    "for a in [False, True]:\n",
    "    for b in [False, True]:\n",
    "        if (a&b) * (a|b) * (a^b):\n",
    "            print(f\"{a}\\t{b}\\t{True}\")\n",
    "        else:\n",
    "            print(f\"{a}\\t{b}\\t{False}\")"
   ]
  },
  {
   "cell_type": "markdown",
   "metadata": {},
   "source": [
    "Todas as saídas serão falsas devido ao fato de ou a porta lógica E (AND) puxar os valores para zero quando as entradas não são simultâneamente verdadeiras, e a porta OU-EXCLUSIVO (XOR) puxa os valores para zero quando as entradas são simultâneamente verdadeiras.\n",
    "\n",
    "Outros tipos de expressões são utilizadas para manipulação de conjuntos.\n",
    "\n",
    "Vejamos exemplos utilizando strings (que são conjuntos de caracteres)."
   ]
  },
  {
   "cell_type": "code",
   "execution_count": 29,
   "metadata": {
    "ExecuteTime": {
     "end_time": "2023-04-26T14:22:27.117899Z",
     "start_time": "2023-04-26T14:22:26.367365Z"
    }
   },
   "outputs": [
    {
     "name": "stdout",
     "output_type": "stream",
     "text": [
      "QUALQUER C\n"
     ]
    }
   ],
   "source": [
    "string = \"QUALQUER COISA\"\n",
    "print(string[:10])"
   ]
  },
  {
   "cell_type": "markdown",
   "metadata": {},
   "source": [
    "Como podemos ver, o operador `[:x]` selecionou os `x` primeiros elementos da string. \n",
    "\n",
    "Isto também é válido para listas e tuplas, que veremos adiante."
   ]
  },
  {
   "cell_type": "code",
   "execution_count": 30,
   "metadata": {},
   "outputs": [
    {
     "name": "stdout",
     "output_type": "stream",
     "text": [
      "QUALQUER CISA\n"
     ]
    }
   ],
   "source": [
    "print(string[:10]+string[11:])"
   ]
  },
  {
   "cell_type": "markdown",
   "metadata": {},
   "source": [
    "Agora, note que foi omitida a letra `o`, que se encontra na 11ª posição (índice 10 da string).\n",
    "\n",
    "Isto foi feito a partir de duas operações.\n",
    "\n",
    "A primeira pegando as 10 primeiras letras e a segunda pegando todas as letras após a décima segunda letra (índice 11)."
   ]
  },
  {
   "cell_type": "code",
   "execution_count": 31,
   "metadata": {},
   "outputs": [
    {
     "name": "stdout",
     "output_type": "stream",
     "text": [
      "QUER COIS\n"
     ]
    }
   ],
   "source": [
    "print(string[-10:-1])"
   ]
  },
  {
   "cell_type": "markdown",
   "metadata": {},
   "source": [
    "Também podemos acessar os valores da string utilizando índices negativos, que começam a sua contagem de maneira regressiva, onde o último elemento da string é endereçado pelo índice `-1` e o primeiro elemento da string é endereçado pelo índice `-len(string)-1`."
   ]
  },
  {
   "cell_type": "code",
   "execution_count": 32,
   "metadata": {},
   "outputs": [
    {
     "name": "stdout",
     "output_type": "stream",
     "text": [
      "Número de caracteres na string: 14\n",
      "QUALQUER COISA\n",
      "QUALQUER COISA\n"
     ]
    }
   ],
   "source": [
    "print(f\"Número de caracteres na string: {len(string)}\")\n",
    "print(string[-15:])\n",
    "print(string[:14])"
   ]
  },
  {
   "cell_type": "markdown",
   "metadata": {},
   "source": [
    "Com o conjunto de variáveis e expressões, podemos definir uma série de instruções para implementar uma lógica de programa desejada.\n",
    "\n",
    "Porém, a complexidade do programa gerado é limitado pelo seu tamanho. Quanto maior um programa, tipicamente menos manutenível ele é, dificultando modificações, reparos e melhorias.\n",
    "\n",
    "Exatamente para se mitigar este problema, são criadas as funções.\n",
    "\n",
    "<a id='funcoes'></a>\n",
    "\n",
    "Funções\n",
    "-------\n",
    "\n",
    "Seu o objetivo é encapsular uma lógica frequentemente utilizada, que pode ser chamada em qualquer ponto do programa, ao invés de ser copiada na íntegra em cada ponto de uso.\n",
    "\n",
    "Já vimos exemplos de funções anteriormente, como as que executaram os cálculos das determinantes das matrizes, ou a que implementou a função quadrática.\n",
    "\n",
    "Porém façamos uma nova função.\n",
    "\n",
    "Desta vez, uma função que calcula Pi através do método de Monte Carlo."
   ]
  },
  {
   "cell_type": "code",
   "execution_count": 33,
   "metadata": {},
   "outputs": [
    {
     "data": {
      "text/plain": [
       "3.127"
      ]
     },
     "execution_count": 33,
     "metadata": {},
     "output_type": "execute_result"
    }
   ],
   "source": [
    "def estima_pi_monte_carlo(iteracoes=4000, silencioso=True):\n",
    "    import random # importa biblioteca de números aleatórios\n",
    "\n",
    "    estimativa_pi = 0 # declara variável para guardar o resultado da computação\n",
    "    dentro_do_circulo = 0 # conta número de coordenadas dentro do círculo\n",
    "    for i in range(iteracoes):\n",
    "        # estima o valor de Pi sorteando coordenadas dentro de um quadrado [0,1]\n",
    "        x = random.random()\n",
    "        y = random.random()\n",
    "        # calcula distância euclidiana do ponto até o centro [0.5, 0.5]\n",
    "        d = ((x-0.5)**2 + (y-0.5)**2)**0.5\n",
    "        # se a coordenada cair dentro do círculo, contabilize\n",
    "        if d <= 0.5:\n",
    "            dentro_do_circulo += 1\n",
    "        # se cair fora, não faz nada e continua para a próxima iteração i = i+1\n",
    "        else:\n",
    "            pass\n",
    "\n",
    "        # imprime a cada 10 iterações\n",
    "        if i % 200 == 0 and not silencioso:\n",
    "            # número de pontos que caem dentro do círculo tem que ser \n",
    "            # proporcional à área do círculo em relação à do quadrado\n",
    "            # Acirc = pi*(raio**2) = pi*0.25 ou pi/4\n",
    "            # Aquad = 1*1 = 1\n",
    "            print(\"Estimativa de pi para %d:%f\" % (i, 4*dentro_do_circulo/iteracoes)) \n",
    "    return 4*dentro_do_circulo/iteracoes\n",
    "\n",
    "estima_pi_monte_carlo()"
   ]
  },
  {
   "cell_type": "markdown",
   "metadata": {},
   "source": [
    "Mas eu havia dito que o objetivo era justamente evitar a repetição do código. Neste caso só chamamos uma vez. \n",
    "\n",
    "Que tal variarmos o número de iterações e vermos o comportamento da estimativa?"
   ]
  },
  {
   "cell_type": "code",
   "execution_count": 34,
   "metadata": {},
   "outputs": [
    {
     "data": {
      "image/png": "[encoded data removed]",
      "text/plain": [
       "<Figure size 640x480 with 1 Axes>"
      ]
     },
     "metadata": {},
     "output_type": "display_data"
    }
   ],
   "source": [
    "xs = [1, 2, 4, 8, 10, 100, 1000, 10000, 100000]\n",
    "ys = []\n",
    "for iteracoes in xs:\n",
    "    ys.append(estima_pi_monte_carlo(iteracoes))\n",
    "plt.xscale(\"log\")\n",
    "plt.xlabel(\"Iterações\")\n",
    "plt.ylabel(\"Aproximação de Pi\")\n",
    "plt.plot(xs, ys)\n",
    "plt.show()"
   ]
  },
  {
   "cell_type": "markdown",
   "metadata": {},
   "source": [
    "Vimos como após um dado número de iterações, o valor da aproximação se estabiliza.\n",
    "\n",
    "Mas perceba que a peça fundamental da função é um laço de repetição do tipo `for`, já que precisamos sortear um número grande de coordenadas.\n",
    "\n",
    "<a id='execucao_iterativa'></a>\n",
    "\n",
    "Execução iterativa\n",
    "--------------------------\n",
    "\n",
    "As estruturas de repetição permitem que um mesmo bloco de código seja iterado/repetido diversas vezes, seja para a mesma entrada ou diferentes entradas. No Python, estas estruturas se apresentam na forma um `for` ou um `while`. O `for` é indicado para os casos onde o tamanho da entrada é conhecida, enquanto o `while` quando o tamanho da entrada é incerto.\n",
    "\n",
    "Vimos este efeito tanto na estimativa de Pi pelo método de Monte Carlo quanto no cálculo de determinantes paramétrico, em que podemos calcular a determinante de uma matriz quadrada de tamanho arbitrário, impraticável de ser feito quando se calculam manualmente cada uma das diagonais da matriz.\n",
    "\n",
    "Veremos um outro uso a seguir na inversão de strings."
   ]
  },
  {
   "cell_type": "code",
   "execution_count": 35,
   "metadata": {
    "ExecuteTime": {
     "end_time": "2023-04-26T14:22:27.159892Z",
     "start_time": "2023-04-26T14:22:26.383364Z"
    },
    "scrolled": true
   },
   "outputs": [
    {
     "name": "stdout",
     "output_type": "stream",
     "text": [
      "String original:QUALQUER COISA\n",
      "Iteração 1/14: temporario = ''\n",
      "Iteração 2/14: temporario = 'A'\n",
      "Iteração 3/14: temporario = 'AS'\n",
      "Iteração 4/14: temporario = 'ASI'\n",
      "Iteração 5/14: temporario = 'ASIO'\n",
      "Iteração 6/14: temporario = 'ASIOC'\n",
      "Iteração 7/14: temporario = 'ASIOC '\n",
      "Iteração 8/14: temporario = 'ASIOC R'\n",
      "Iteração 9/14: temporario = 'ASIOC RE'\n",
      "Iteração 10/14: temporario = 'ASIOC REU'\n",
      "Iteração 11/14: temporario = 'ASIOC REUQ'\n",
      "Iteração 12/14: temporario = 'ASIOC REUQL'\n",
      "Iteração 13/14: temporario = 'ASIOC REUQLA'\n",
      "Iteração 14/14: temporario = 'ASIOC REUQLAU'\n",
      "String invertida:ASIOC REUQLAUQ\n"
     ]
    }
   ],
   "source": [
    "def inverte_string(entrada):\n",
    "    # Versão picareta\n",
    "    # return \"\".join(list(reversed(entrada)))\n",
    "\n",
    "    # Versão legítima\n",
    "    temporario = \"\"\n",
    "    for i in range(len(entrada)): # tamanho da entrada é fixo e conhecido em tempo de execução\n",
    "        print(f\"Iteração {i+1}/{len(entrada)}: temporario = '{temporario}'\")\n",
    "        temporario += entrada[-1-i]\n",
    "    return temporario\n",
    "\n",
    "print(f\"String original:{string}\")\n",
    "print(f\"String invertida:{inverte_string(string)}\")"
   ]
  },
  {
   "cell_type": "markdown",
   "metadata": {},
   "source": [
    "Outro exemplo comum é o cálculo do fatorial de um número (`x!`)."
   ]
  },
  {
   "cell_type": "code",
   "execution_count": 36,
   "metadata": {},
   "outputs": [
    {
     "name": "stdout",
     "output_type": "stream",
     "text": [
      "1\n",
      "1\n",
      "2\n",
      "6\n",
      "24\n",
      "120\n",
      "720\n",
      "5040\n",
      "40320\n",
      "362880\n"
     ]
    }
   ],
   "source": [
    "def fatorial(x):\n",
    "    fat = 1\n",
    "    for i in range(1, x+1):\n",
    "        fat *= i\n",
    "    return fat\n",
    "\n",
    "for i in range(10):\n",
    "    print(fatorial(i))"
   ]
  },
  {
   "cell_type": "markdown",
   "metadata": {},
   "source": [
    "Em conjunto com estruturas de repetição, tipicamente temos estruturas que permitem a execução condicional de um bloco de código.\n",
    "\n",
    "<a id='execucao_condicional'></a>\n",
    "\n",
    "Execução condicional\n",
    "--------------------------------\n",
    "\n",
    "Expressões lógicas booleanas podem ser utilizadas para se controlar o fluxo de execução, ou o caminho que o programa executa.\n",
    "\n",
    "No Python, estas estruturas se dão por meio das palavras reservadas `if`, `else` e `elif`.\n",
    "\n",
    "Estas estruturas já foram utilizadas previamente nos exemplos, como no caso do cálculo da estimativa de Pi, onde precisamos checar se a coordenada cai ou não dentro do círculo trigonométrico."
   ]
  },
  {
   "cell_type": "code",
   "execution_count": 37,
   "metadata": {},
   "outputs": [],
   "source": [
    "def cai_dentro_do_circulo_trigonometrico(x,y):\n",
    "    # calcula distância euclidiana do ponto até o centro [0.5, 0.5]\n",
    "    d = ((x-0.5)**2 + (y-0.5)**2)**0.5\n",
    "    # se a coordenada cair dentro do círculo, retorna verdadeiro\n",
    "    if d <= 0.5:\n",
    "        return True\n",
    "    # caso contrário, retorna falso\n",
    "    else:\n",
    "        return False"
   ]
  },
  {
   "cell_type": "markdown",
   "metadata": {},
   "source": [
    "Outro exemplo de instruções para o cálculo da série de Taylor.\n",
    "\n",
    "O cosseno pode ser aproximado pela seguinte série: \n",
    "\n",
    "$cos(x) = 1-\\frac{x^{2}}{2!}+\\frac{x^{4}}{4!}-\\frac{x^{6}}{6!}+\\frac{x^{8}}{8!}-\\frac{x^{10}}{10!}+...$\n",
    "\n",
    "Que pode ser reescrito como\n",
    "\n",
    "$cos(x) = 1-\\sum^{iteracoes_{max}}_{n=0}{\\frac{(-1)^{n}x^{2n}}{2n!}}$\n",
    "\n",
    "Daí podemos tirar que existem dois padrões. Potências e fatoriais pares, com sinais alternando entre positivo e negativo."
   ]
  },
  {
   "cell_type": "code",
   "execution_count": 38,
   "metadata": {
    "ExecuteTime": {
     "end_time": "2023-04-26T14:22:27.423977Z",
     "start_time": "2023-04-26T14:22:26.399365Z"
    }
   },
   "outputs": [
    {
     "data": {
      "image/png": "[encoded data removed]",
      "text/plain": [
       "<Figure size 640x480 with 1 Axes>"
      ]
     },
     "metadata": {},
     "output_type": "display_data"
    }
   ],
   "source": [
    "def cosseno_de_taylor(x, iteracoes=20):\n",
    "    estimativa_cosseno = 1\n",
    "    sinalPositivo = False\n",
    "    for i in range(1, iteracoes+1):\n",
    "        # Calcula potência de X dividido pelo fatorial\n",
    "        componente = (x**(2*i))/fatorial(2*i)\n",
    "        # Alterna sinal\n",
    "        if sinalPositivo:\n",
    "            estimativa_cosseno += componente\n",
    "        else:\n",
    "            estimativa_cosseno -= componente\n",
    "        sinalPositivo = not sinalPositivo\n",
    "    return estimativa_cosseno\n",
    "\n",
    "import math\n",
    "xs = [i*math.pi/180 for i in range(1, 361)]\n",
    "ys = []\n",
    "for x in xs:\n",
    "    ys.append(cosseno_de_taylor(x))\n",
    "\n",
    "plt.plot(xs, ys)\n",
    "plt.show()"
   ]
  },
  {
   "cell_type": "markdown",
   "metadata": {},
   "source": [
    "Agora façamos a série de Taylor para o seno"
   ]
  },
  {
   "cell_type": "code",
   "execution_count": 39,
   "metadata": {
    "ExecuteTime": {
     "end_time": "2023-04-26T14:22:27.666348Z",
     "start_time": "2023-04-26T14:22:26.414365Z"
    }
   },
   "outputs": [
    {
     "data": {
      "image/png": "[encoded data removed]",
      "text/plain": [
       "<Figure size 640x480 with 1 Axes>"
      ]
     },
     "metadata": {},
     "output_type": "display_data"
    }
   ],
   "source": [
    "def seno_de_taylor(x, iteracoes=7):\n",
    "    estimativa_seno = 0\n",
    "    sinalPositivo = True\n",
    "    for i in range(0, iteracoes):\n",
    "        componente = (x**(2*i+1))/fatorial(2*i+1)\n",
    "        if sinalPositivo:\n",
    "            estimativa_seno += componente\n",
    "        else:\n",
    "            estimativa_seno -= componente\n",
    "        sinalPositivo = not sinalPositivo\n",
    "    return estimativa_seno\n",
    "\n",
    "import math\n",
    "xs = [i*math.pi/180 for i in range(1, 361)]\n",
    "# Precalcula os valores do eixo Y gerado pelo próprio Python\n",
    "ys_biblioteca = [math.sin(x) for x in xs]\n",
    "\n",
    "# Altera o número de iterações da nossa série de Taylor para ver o impacto na precisão\n",
    "for iteracoes in [2, 4, 6, 8, 10]:\n",
    "    ys = []\n",
    "    for x in xs:\n",
    "        ys.append(seno_de_taylor(x, iteracoes))\n",
    "    plt.plot(xs, ys, label=f\"estimativa com {iteracoes} iterações\")\n",
    "plt.plot(xs, ys_biblioteca, label=\"biblioteca python\")\n",
    "plt.legend()\n",
    "plt.show()"
   ]
  },
  {
   "cell_type": "markdown",
   "metadata": {},
   "source": [
    "Mas esta não é a única forma de se calcular as funções trigonométricas. Podemos utilizar, por exemplo, uma série de Chebyshev.\n",
    "\n",
    "Neste caso não temos execução condicional nem iterativa, não podendo alterar o número de iterações para reduzir ou aumentar a precisão do cálculo em troca de tempo de computação."
   ]
  },
  {
   "cell_type": "code",
   "execution_count": 40,
   "metadata": {
    "ExecuteTime": {
     "end_time": "2023-04-26T14:22:27.902318Z",
     "start_time": "2023-04-26T14:22:26.428361Z"
    }
   },
   "outputs": [
    {
     "data": {
      "image/png": "[encoded data removed]",
      "text/plain": [
       "<Figure size 640x480 with 1 Axes>"
      ]
     },
     "metadata": {},
     "output_type": "display_data"
    }
   ],
   "source": [
    "def seno_chebyshev(x):\n",
    "    coeficientes_chebyshev = [\n",
    "        -0.10132118,\n",
    "        0.0066208798,\n",
    "        -0.00017350505,\n",
    "        0.0000025222919,\n",
    "        -0.00000002337787,\n",
    "        0.00000000013291342\n",
    "    ]\n",
    "    pi = 3.1415927\n",
    "    pi_menor = -0.00000008742278\n",
    "    x2 = x*x\n",
    "    p11 = coeficientes_chebyshev[5]\n",
    "    p09 = p11*x2 + coeficientes_chebyshev[4]\n",
    "    p07 = p09*x2 + coeficientes_chebyshev[3]\n",
    "    p05 = p07*x2 + coeficientes_chebyshev[2]\n",
    "    p03 = p05*x2 + coeficientes_chebyshev[1]\n",
    "    p01 = p03*x2 + coeficientes_chebyshev[0]\n",
    "    estimativa_seno = (x-pi-pi_menor)*(x+pi+pi_menor)*p01*x\n",
    "    return estimativa_seno\n",
    "\n",
    "\n",
    "import math\n",
    "\n",
    "xs = [i * math.pi / 180 for i in range(1, 361)]\n",
    "ys = []\n",
    "ys_biblioteca = []\n",
    "for x in xs:\n",
    "    ys.append(seno_chebyshev(x))\n",
    "    ys_biblioteca.append(math.sin(x))\n",
    "\n",
    "plt.plot(xs, ys, label=\"nossa_estimativa\")\n",
    "plt.plot(xs, ys_biblioteca, label=\"biblioteca_python\")\n",
    "plt.legend()\n",
    "plt.show()"
   ]
  },
  {
   "cell_type": "markdown",
   "metadata": {},
   "source": [
    "<a id='recursao'></a>\n",
    "\n",
    "Recursão\n",
    "-------------\n",
    "\n",
    "Recursão é feita de funções que chamam a si mesmas. Estas funções devem ter uma condição de parada, senão se chamarão de maneira descontrolada, causando falha de segmentação do programa. Além da condição de parada, deve haver um caso de base, que é o caso comumente encontrado.\n",
    "\n",
    "Um clássico exemplo é o do fatorial. Vejamos a diferença com o fatorial iterativo."
   ]
  },
  {
   "cell_type": "code",
   "execution_count": 41,
   "metadata": {},
   "outputs": [
    {
     "name": "stdout",
     "output_type": "stream",
     "text": [
      "[1, 1, 2, 6, 24, 120, 720, 5040, 40320, 362880]\n",
      "[1, 1, 2, 6, 24, 120, 720, 5040, 40320, 362880]\n"
     ]
    }
   ],
   "source": [
    "def fatorial_iterativo(x):\n",
    "    fat = 1\n",
    "    for i in range(1, x+1):\n",
    "        fat *= i\n",
    "    return fat\n",
    "\n",
    "def fatorial_recursivo(x):\n",
    "    # caso de parada\n",
    "    if x <= 1: \n",
    "        return 1\n",
    "    return x*fatorial_recursivo(x-1)\n",
    "\n",
    "print([fatorial_iterativo(x) for x in range(10)])\n",
    "print([fatorial_recursivo(x) for x in range(10)])"
   ]
  },
  {
   "cell_type": "markdown",
   "metadata": {},
   "source": [
    "Como podemos ver, o resultado é exatamente o mesmo, porém na versão iterativa temos um laço `for` explícito.\n",
    "\n",
    "Enquanto isso, a versão recursiva se comporta como um `for`, porém de maneira escamoteada.\n",
    "\n",
    "Imprimâmos um contador para confirmar este fato."
   ]
  },
  {
   "cell_type": "code",
   "execution_count": 42,
   "metadata": {},
   "outputs": [
    {
     "name": "stdout",
     "output_type": "stream",
     "text": [
      "0 1 2 3 4 5 6 7 8 9 "
     ]
    }
   ],
   "source": [
    "def contador_iterativo(x):\n",
    "    for i in range(x):\n",
    "        print(i, end=\" \")\n",
    "\n",
    "contador_iterativo(10)"
   ]
  },
  {
   "cell_type": "code",
   "execution_count": 43,
   "metadata": {},
   "outputs": [
    {
     "name": "stdout",
     "output_type": "stream",
     "text": [
      "0 1 2 3 4 5 6 7 8 9 "
     ]
    }
   ],
   "source": [
    "def contador_recursivo(x, cont=0):\n",
    "    # caso de parada\n",
    "    if x <= 0:\n",
    "        return\n",
    "    print(cont, end=\" \")\n",
    "    contador_recursivo(x-1, cont+1)\n",
    "contador_recursivo(10)"
   ]
  },
  {
   "cell_type": "markdown",
   "metadata": {},
   "source": [
    "<a id='strings'></a>\n",
    "\n",
    "Strings\n",
    "-------------"
   ]
  },
  {
   "cell_type": "markdown",
   "metadata": {},
   "source": [
    "<a id='listas'></a>\n",
    "\n",
    "Listas\n",
    "-------------"
   ]
  },
  {
   "cell_type": "markdown",
   "metadata": {},
   "source": [
    "<a id='dicionarios'></a>\n",
    "\n",
    "Dicionários\n",
    "-------------"
   ]
  },
  {
   "cell_type": "markdown",
   "metadata": {},
   "source": [
    "<a id='bibliotecas'></a>\n",
    "\n",
    "Bibliotecas\n",
    "-------------"
   ]
  },
  {
   "cell_type": "markdown",
   "metadata": {},
   "source": [
    "<a id='arquivos'></a>\n",
    "\n",
    "Arquivos\n",
    "----------"
   ]
  }
 ],
 "metadata": {
  "kernelspec": {
   "display_name": "Python 3 (ipykernel)",
   "language": "python",
   "name": "python3"
  },
  "language_info": {
   "codemirror_mode": {
    "name": "ipython",
    "version": 3
   },
   "file_extension": ".py",
   "mimetype": "text/x-python",
   "name": "python",
   "nbconvert_exporter": "python",
   "pygments_lexer": "ipython3",
   "version": "3.10.9"
  }
 },
 "nbformat": 4,
 "nbformat_minor": 1
}
